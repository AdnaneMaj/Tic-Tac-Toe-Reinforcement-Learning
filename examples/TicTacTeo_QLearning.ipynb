{
  "cells": [
    {
      "cell_type": "code",
      "execution_count": 79,
      "metadata": {
        "colab": {
          "base_uri": "https://localhost:8080/"
        },
        "id": "TaSt5LkK-6BQ",
        "outputId": "8066e431-5d41-45b7-e3e9-f86f454f3124"
      },
      "outputs": [
        {
          "output_type": "stream",
          "name": "stdout",
          "text": [
            "Found existing installation: tic_env 0.0.1\n",
            "Uninstalling tic_env-0.0.1:\n",
            "  Successfully uninstalled tic_env-0.0.1\n"
          ]
        }
      ],
      "source": [
        "!pip uninstall tic_env -y"
      ]
    },
    {
      "cell_type": "code",
      "execution_count": 1,
      "metadata": {
        "colab": {
          "base_uri": "https://localhost:8080/"
        },
        "id": "gVw_D08O90bG",
        "outputId": "1d0d940e-edc6-4761-8182-dc162c7033b8"
      },
      "outputs": [
        {
          "output_type": "stream",
          "name": "stdout",
          "text": [
            "Collecting git+https://github.com/JamorMoussa/Tic-Tac-Toe-Reinforcement-Learning.git\n",
            "  Cloning https://github.com/JamorMoussa/Tic-Tac-Toe-Reinforcement-Learning.git to /tmp/pip-req-build-ns2ng61n\n",
            "  Running command git clone --filter=blob:none --quiet https://github.com/JamorMoussa/Tic-Tac-Toe-Reinforcement-Learning.git /tmp/pip-req-build-ns2ng61n\n",
            "  Resolved https://github.com/JamorMoussa/Tic-Tac-Toe-Reinforcement-Learning.git to commit 1056abc9f59714bb1763b3f91ac542c50f840cb1\n",
            "  Preparing metadata (setup.py) ... \u001b[?25l\u001b[?25hdone\n",
            "Requirement already satisfied: gymnasium==1.0.0 in /usr/local/lib/python3.10/dist-packages (from tic_env==0.0.1) (1.0.0)\n",
            "Requirement already satisfied: numpy>=1.21.0 in /usr/local/lib/python3.10/dist-packages (from gymnasium==1.0.0->tic_env==0.0.1) (2.1.2)\n",
            "Requirement already satisfied: cloudpickle>=1.2.0 in /usr/local/lib/python3.10/dist-packages (from gymnasium==1.0.0->tic_env==0.0.1) (3.1.0)\n",
            "Requirement already satisfied: typing-extensions>=4.3.0 in /usr/local/lib/python3.10/dist-packages (from gymnasium==1.0.0->tic_env==0.0.1) (4.12.2)\n",
            "Requirement already satisfied: farama-notifications>=0.0.1 in /usr/local/lib/python3.10/dist-packages (from gymnasium==1.0.0->tic_env==0.0.1) (0.0.4)\n"
          ]
        }
      ],
      "source": [
        "!pip install git+https://github.com/JamorMoussa/Tic-Tac-Toe-Reinforcement-Learning.git"
      ]
    },
    {
      "cell_type": "code",
      "execution_count": 3,
      "metadata": {
        "id": "cozza3In99yf"
      },
      "outputs": [],
      "source": [
        "import gymnasium as gym\n",
        "import tic_env\n",
        "\n",
        "import numpy as np\n",
        "import random\n",
        "\n",
        "from tqdm.notebook import trange"
      ]
    },
    {
      "cell_type": "code",
      "execution_count": 4,
      "metadata": {
        "id": "tMvYB9LZ-QW4"
      },
      "outputs": [],
      "source": [
        "env = gym.make(\"tic_env/TicTacToe-v0\").unwrapped"
      ]
    },
    {
      "cell_type": "code",
      "execution_count": 5,
      "metadata": {
        "colab": {
          "base_uri": "https://localhost:8080/"
        },
        "id": "FsPSCQbw-XXq",
        "outputId": "5b000e5f-b7c3-4573-ec9b-3659202df839"
      },
      "outputs": [
        {
          "output_type": "execute_result",
          "data": {
            "text/plain": [
              "<tic_env.envs.tic_env.TicTacToeEnv at 0x7e7390c5c340>"
            ]
          },
          "metadata": {},
          "execution_count": 5
        }
      ],
      "source": [
        "env"
      ]
    },
    {
      "cell_type": "code",
      "execution_count": 6,
      "metadata": {
        "colab": {
          "base_uri": "https://localhost:8080/"
        },
        "id": "anFeygxh_MUP",
        "outputId": "51994178-2327-4e39-a9db-b1912d772b42"
      },
      "outputs": [
        {
          "output_type": "stream",
          "name": "stdout",
          "text": [
            "Observation Space Discrete(511)\n",
            "Sample observation 155\n"
          ]
        }
      ],
      "source": [
        "print(\"Observation Space\", env.observation_space)\n",
        "print(\"Sample observation\", env.observation_space.sample()) # display a random observation"
      ]
    },
    {
      "cell_type": "code",
      "execution_count": 7,
      "metadata": {
        "colab": {
          "base_uri": "https://localhost:8080/"
        },
        "id": "nv3U6xhl_PC5",
        "outputId": "e6609d4e-d5a9-44ac-c85b-5471f041e2ee"
      },
      "outputs": [
        {
          "output_type": "stream",
          "name": "stdout",
          "text": [
            "Action Space Shape 9\n",
            "Action Space Sample 7\n"
          ]
        }
      ],
      "source": [
        "print(\"Action Space Shape\", env.action_space.n)\n",
        "print(\"Action Space Sample\", env.action_space.sample())"
      ]
    },
    {
      "cell_type": "code",
      "execution_count": 8,
      "metadata": {
        "id": "tyEi3h2k_R40"
      },
      "outputs": [],
      "source": [
        "num_states = env.observation_space.n\n",
        "\n",
        "num_actions = env.action_space.n"
      ]
    },
    {
      "cell_type": "code",
      "execution_count": 9,
      "metadata": {
        "colab": {
          "base_uri": "https://localhost:8080/"
        },
        "id": "gn0lkuSE_T_7",
        "outputId": "f8a12310-0f40-4bc8-a24a-523fd1c98ee5"
      },
      "outputs": [
        {
          "output_type": "execute_result",
          "data": {
            "text/plain": [
              "(np.int64(511), np.int64(9))"
            ]
          },
          "metadata": {},
          "execution_count": 9
        }
      ],
      "source": [
        "num_states, num_actions"
      ]
    },
    {
      "cell_type": "code",
      "execution_count": 10,
      "metadata": {
        "id": "RpoEZJ23_V4J"
      },
      "outputs": [],
      "source": [
        "class QTable:\n",
        "\n",
        "  def __init__(self, num_states: int, num_actions: int):\n",
        "    self.num_states = num_states\n",
        "    self.num_actions = num_actions\n",
        "\n",
        "    self.q_table = np.zeros((self.num_states, self.num_actions))\n",
        "\n",
        "  def get(self, state: int, action: int):\n",
        "    action -= 1\n",
        "    state -= 1\n",
        "    return self.q_table[state, action]\n",
        "\n",
        "  def argmax(self, state: int):\n",
        "    state -= 1\n",
        "    return np.argmax(self.q_table[state])\n",
        "\n",
        "  def max(self, state: int):\n",
        "    state -= 1\n",
        "    return np.max(self.q_table[state])\n",
        "\n",
        "  def update(self, state: int, action: int, q_value: float):\n",
        "    action -= 1\n",
        "    state -= 1\n",
        "    self.q_table[state, action] = q_value\n",
        "\n",
        "  def __repr__(self):\n",
        "    return self.q_table.__repr__()"
      ]
    },
    {
      "cell_type": "code",
      "execution_count": 11,
      "metadata": {
        "id": "cvTDeq-z_XQ_"
      },
      "outputs": [],
      "source": [
        "def eps_greedy_policy(q_table: QTable, state: int, eps: float):\n",
        "\n",
        "  if random.uniform(0, 1) < eps:\n",
        "    return env.action_space.sample()\n",
        "\n",
        "  return q_table.argmax(state)"
      ]
    },
    {
      "cell_type": "code",
      "execution_count": 12,
      "metadata": {
        "id": "q7ghsp2b_Y2b"
      },
      "outputs": [],
      "source": [
        "def greedy_policy(q_table: QTable, state: int):\n",
        "\n",
        "  return q_table.argmax(state)"
      ]
    },
    {
      "cell_type": "code",
      "execution_count": 172,
      "metadata": {
        "id": "sbKkKSc1_eAj"
      },
      "outputs": [],
      "source": [
        "# Training parameters\n",
        "n_training_episodes = 3 * 10000\n",
        "lr = 0.2\n",
        "\n",
        "# Evaluation parameters\n",
        "n_eval_episodes = 100\n",
        "\n",
        "max_steps = 100\n",
        "gamma = 0.95\n",
        "eval_seed = []\n",
        "\n",
        "# Exploration parameters\n",
        "max_epsilon = 1.0\n",
        "min_epsilon = 0\n",
        "decay_rate = 2e-3"
      ]
    },
    {
      "cell_type": "code",
      "source": [
        "float(min_epsilon + (max_epsilon - min_epsilon) * np.exp(-decay_rate * 0.5 * 10000))"
      ],
      "metadata": {
        "colab": {
          "base_uri": "https://localhost:8080/"
        },
        "id": "wGvMsUTpMWoe",
        "outputId": "66123b79-2006-4e15-d271-e93092b031f2"
      },
      "execution_count": 173,
      "outputs": [
        {
          "output_type": "execute_result",
          "data": {
            "text/plain": [
              "4.5399929762484854e-05"
            ]
          },
          "metadata": {},
          "execution_count": 173
        }
      ]
    },
    {
      "cell_type": "code",
      "execution_count": 174,
      "metadata": {
        "id": "DOZqAtwV_fiF"
      },
      "outputs": [],
      "source": [
        "def train(\n",
        "    num_iters: int,\n",
        "    min_eps: int,\n",
        "    max_eps: int,\n",
        "    deacy_rate: float,\n",
        "    env: gym.Env,\n",
        "    max_steps: int,\n",
        "    q_table: QTable\n",
        "):\n",
        "\n",
        "  for episode in trange(num_iters):\n",
        "\n",
        "    eps = float(min_eps + (max_eps - min_eps) * np.exp(-decay_rate * episode))\n",
        "\n",
        "    state = env.reset()\n",
        "\n",
        "    step = 0\n",
        "    done = False\n",
        "\n",
        "    for step in range(max_steps):\n",
        "\n",
        "      action = eps_greedy_policy(q_table, state, eps)\n",
        "\n",
        "      new_state, reward, done, info = env.step(action)\n",
        "\n",
        "      q_value = q_table.get(state, action) + lr * (\n",
        "          reward  + gamma * q_table.max(new_state) - q_table.get(state, action)\n",
        "      )\n",
        "\n",
        "      q_table.update(state, action, q_value)\n",
        "\n",
        "      if done:\n",
        "        break\n",
        "\n",
        "      state = new_state\n",
        "\n",
        "  return q_table"
      ]
    },
    {
      "cell_type": "code",
      "execution_count": 175,
      "metadata": {
        "id": "weFaaDvR_huy"
      },
      "outputs": [],
      "source": [
        "q_table = QTable(num_states, num_actions)"
      ]
    },
    {
      "cell_type": "code",
      "execution_count": 176,
      "metadata": {
        "colab": {
          "base_uri": "https://localhost:8080/",
          "height": 49,
          "referenced_widgets": [
            "f1d0aa1d561345f1849bfdb2c2ef660d",
            "163856e7dc454546bb9af407cd2e6f5f",
            "5ae0e8191c3d48c2a6b09afb6b9e5410",
            "c477fe1b772446348b574da0fedc1f7b",
            "3cf5bd9346dd4336a34ca61cf633747f",
            "4dcba3e95829495a9f5b1b5d673ca283",
            "82bc78bb626149a38594c1b9e731a51c",
            "94770f3346414db7891d1722b5b61fdf",
            "5964acda94fa4f4baa708c3223291892",
            "a98d95f8285647818d200d59e7351b49",
            "74d1edff460b43b983e70d5da04415a7"
          ]
        },
        "id": "vpQWoKVA_jVJ",
        "outputId": "17bd6aed-b4e3-4f55-9579-3c819d3e3557"
      },
      "outputs": [
        {
          "output_type": "display_data",
          "data": {
            "text/plain": [
              "  0%|          | 0/30000 [00:00<?, ?it/s]"
            ],
            "application/vnd.jupyter.widget-view+json": {
              "version_major": 2,
              "version_minor": 0,
              "model_id": "f1d0aa1d561345f1849bfdb2c2ef660d"
            }
          },
          "metadata": {}
        }
      ],
      "source": [
        "q_table = train(n_training_episodes, min_epsilon, max_epsilon, max_epsilon, env, max_steps, q_table)"
      ]
    },
    {
      "cell_type": "code",
      "execution_count": 153,
      "metadata": {
        "colab": {
          "base_uri": "https://localhost:8080/"
        },
        "id": "3C_SdjX4_pVj",
        "outputId": "6a5c6081-6a05-4623-e98b-85e551af38e3"
      },
      "outputs": [
        {
          "output_type": "execute_result",
          "data": {
            "text/plain": [
              "array([-0.86931777,  0.1428359 ,  0.14475404,  0.14402784,  0.14351932,\n",
              "        0.14337215,  0.14281248,  0.12584032,  0.10555922])"
            ]
          },
          "metadata": {},
          "execution_count": 153
        }
      ],
      "source": [
        "q_table.q_table[0]"
      ]
    },
    {
      "cell_type": "code",
      "source": [
        "q_table.q_table[0]"
      ],
      "metadata": {
        "colab": {
          "base_uri": "https://localhost:8080/"
        },
        "id": "O3i8_vurAzuE",
        "outputId": "1d051fe3-13ff-439e-9ebc-7b619d624d57"
      },
      "execution_count": 177,
      "outputs": [
        {
          "output_type": "execute_result",
          "data": {
            "text/plain": [
              "array([-0.93364533,  0.06984703,  0.06320568,  0.06144047,  0.06102971,\n",
              "        0.06113571,  0.06041233,  0.04229524,  0.0141167 ])"
            ]
          },
          "metadata": {},
          "execution_count": 177
        }
      ]
    },
    {
      "cell_type": "code",
      "execution_count": 178,
      "metadata": {
        "id": "XrCs4ZR7Xfet"
      },
      "outputs": [],
      "source": [
        "env = gym.make(\"tic_env/TicTacToe-v0\").unwrapped\n",
        "\n",
        "obv = env.reset()"
      ]
    },
    {
      "cell_type": "code",
      "execution_count": 179,
      "metadata": {
        "id": "igPukJVKX_wE"
      },
      "outputs": [],
      "source": [
        "from tic_env.tic_game import PlayerId"
      ]
    },
    {
      "cell_type": "code",
      "execution_count": 180,
      "metadata": {
        "id": "mggBQCnkXLwb"
      },
      "outputs": [],
      "source": [
        "def human_vs_machine(\n",
        "    env, q_table\n",
        "):\n",
        "\n",
        "  state = env.reset()\n",
        "\n",
        "  env.game.change_player()\n",
        "\n",
        "  done = False\n",
        "\n",
        "  while not done:\n",
        "\n",
        "      if env.game.cur_player.id == PlayerId.O:\n",
        "        print(\"allowed action\", env.game.get_allowed_actions())\n",
        "        action = int(input(\"Enter and action: \"))\n",
        "        while action not in env.game.get_allowed_actions():\n",
        "          print(\"This action is not allowed\")\n",
        "          action = int(input(\"Enter and action: \"))\n",
        "\n",
        "        print(f\"Human takes this action: {action}\")\n",
        "\n",
        "      else:\n",
        "        action = greedy_policy(q_table=q_table, state=state) + 1\n",
        "        print(f\"AI takes this action: {action}\")\n",
        "\n",
        "      state, reward, done, _ = env.step(action=action)\n",
        "\n",
        "      env.render()"
      ]
    },
    {
      "cell_type": "code",
      "execution_count": 188,
      "metadata": {
        "colab": {
          "base_uri": "https://localhost:8080/"
        },
        "id": "Hj1QybhEZEjW",
        "outputId": "1f7c5c3d-1b0d-4903-d1e4-335fc6babb7b"
      },
      "outputs": [
        {
          "output_type": "stream",
          "name": "stdout",
          "text": [
            "AI takes this action: 1\n",
            "+---+---+---+\n",
            "| X |   |   |\n",
            "+---+---+---+\n",
            "|   |   |   |\n",
            "+---+---+---+\n",
            "|   |   |   |\n",
            "+---+---+---+\n",
            "\n",
            "allowed action [2, 3, 4, 5, 6, 7, 8, 9]\n",
            "Enter and action: 1\n",
            "This action is not allowed\n",
            "Enter and action: 2\n",
            "Human takes this action: 2\n",
            "+---+---+---+\n",
            "| X | O |   |\n",
            "+---+---+---+\n",
            "|   |   |   |\n",
            "+---+---+---+\n",
            "|   |   |   |\n",
            "+---+---+---+\n",
            "\n",
            "AI takes this action: 5\n",
            "+---+---+---+\n",
            "| X | O |   |\n",
            "+---+---+---+\n",
            "|   | X |   |\n",
            "+---+---+---+\n",
            "|   |   |   |\n",
            "+---+---+---+\n",
            "\n",
            "allowed action [3, 4, 6, 7, 8, 9]\n",
            "Enter and action: 9\n",
            "Human takes this action: 9\n",
            "+---+---+---+\n",
            "| X | O |   |\n",
            "+---+---+---+\n",
            "|   | X |   |\n",
            "+---+---+---+\n",
            "|   |   | O |\n",
            "+---+---+---+\n",
            "\n",
            "AI takes this action: 7\n",
            "+---+---+---+\n",
            "| X | O |   |\n",
            "+---+---+---+\n",
            "|   | X |   |\n",
            "+---+---+---+\n",
            "| X |   | O |\n",
            "+---+---+---+\n",
            "\n",
            "allowed action [3, 4, 6, 8]\n",
            "Enter and action: 3\n",
            "Human takes this action: 3\n",
            "+---+---+---+\n",
            "| X | O | O |\n",
            "+---+---+---+\n",
            "|   | X |   |\n",
            "+---+---+---+\n",
            "| X |   | O |\n",
            "+---+---+---+\n",
            "\n",
            "AI takes this action: 8\n",
            "+---+---+---+\n",
            "| X | O | O |\n",
            "+---+---+---+\n",
            "|   | X |   |\n",
            "+---+---+---+\n",
            "| X | X | O |\n",
            "+---+---+---+\n",
            "\n",
            "allowed action [4, 6]\n",
            "Enter and action: 4\n",
            "Human takes this action: 4\n",
            "+---+---+---+\n",
            "| X | O | O |\n",
            "+---+---+---+\n",
            "| O | X |   |\n",
            "+---+---+---+\n",
            "| X | X | O |\n",
            "+---+---+---+\n",
            "\n",
            "AI takes this action: 6\n",
            "+---+---+---+\n",
            "| X | O | O |\n",
            "+---+---+---+\n",
            "| O | X | X |\n",
            "+---+---+---+\n",
            "| X | X | O |\n",
            "+---+---+---+\n",
            "\n"
          ]
        }
      ],
      "source": [
        "human_vs_machine(\n",
        "    env=env, q_table=q_table\n",
        ")"
      ]
    },
    {
      "cell_type": "code",
      "execution_count": null,
      "metadata": {
        "id": "sR4mPkUVZNqw"
      },
      "outputs": [],
      "source": []
    }
  ],
  "metadata": {
    "colab": {
      "provenance": []
    },
    "kernelspec": {
      "display_name": "Python 3",
      "name": "python3"
    },
    "language_info": {
      "name": "python"
    },
    "widgets": {
      "application/vnd.jupyter.widget-state+json": {
        "f1d0aa1d561345f1849bfdb2c2ef660d": {
          "model_module": "@jupyter-widgets/controls",
          "model_name": "HBoxModel",
          "model_module_version": "1.5.0",
          "state": {
            "_dom_classes": [],
            "_model_module": "@jupyter-widgets/controls",
            "_model_module_version": "1.5.0",
            "_model_name": "HBoxModel",
            "_view_count": null,
            "_view_module": "@jupyter-widgets/controls",
            "_view_module_version": "1.5.0",
            "_view_name": "HBoxView",
            "box_style": "",
            "children": [
              "IPY_MODEL_163856e7dc454546bb9af407cd2e6f5f",
              "IPY_MODEL_5ae0e8191c3d48c2a6b09afb6b9e5410",
              "IPY_MODEL_c477fe1b772446348b574da0fedc1f7b"
            ],
            "layout": "IPY_MODEL_3cf5bd9346dd4336a34ca61cf633747f"
          }
        },
        "163856e7dc454546bb9af407cd2e6f5f": {
          "model_module": "@jupyter-widgets/controls",
          "model_name": "HTMLModel",
          "model_module_version": "1.5.0",
          "state": {
            "_dom_classes": [],
            "_model_module": "@jupyter-widgets/controls",
            "_model_module_version": "1.5.0",
            "_model_name": "HTMLModel",
            "_view_count": null,
            "_view_module": "@jupyter-widgets/controls",
            "_view_module_version": "1.5.0",
            "_view_name": "HTMLView",
            "description": "",
            "description_tooltip": null,
            "layout": "IPY_MODEL_4dcba3e95829495a9f5b1b5d673ca283",
            "placeholder": "​",
            "style": "IPY_MODEL_82bc78bb626149a38594c1b9e731a51c",
            "value": "100%"
          }
        },
        "5ae0e8191c3d48c2a6b09afb6b9e5410": {
          "model_module": "@jupyter-widgets/controls",
          "model_name": "FloatProgressModel",
          "model_module_version": "1.5.0",
          "state": {
            "_dom_classes": [],
            "_model_module": "@jupyter-widgets/controls",
            "_model_module_version": "1.5.0",
            "_model_name": "FloatProgressModel",
            "_view_count": null,
            "_view_module": "@jupyter-widgets/controls",
            "_view_module_version": "1.5.0",
            "_view_name": "ProgressView",
            "bar_style": "success",
            "description": "",
            "description_tooltip": null,
            "layout": "IPY_MODEL_94770f3346414db7891d1722b5b61fdf",
            "max": 30000,
            "min": 0,
            "orientation": "horizontal",
            "style": "IPY_MODEL_5964acda94fa4f4baa708c3223291892",
            "value": 30000
          }
        },
        "c477fe1b772446348b574da0fedc1f7b": {
          "model_module": "@jupyter-widgets/controls",
          "model_name": "HTMLModel",
          "model_module_version": "1.5.0",
          "state": {
            "_dom_classes": [],
            "_model_module": "@jupyter-widgets/controls",
            "_model_module_version": "1.5.0",
            "_model_name": "HTMLModel",
            "_view_count": null,
            "_view_module": "@jupyter-widgets/controls",
            "_view_module_version": "1.5.0",
            "_view_name": "HTMLView",
            "description": "",
            "description_tooltip": null,
            "layout": "IPY_MODEL_a98d95f8285647818d200d59e7351b49",
            "placeholder": "​",
            "style": "IPY_MODEL_74d1edff460b43b983e70d5da04415a7",
            "value": " 30000/30000 [04:25&lt;00:00, 103.13it/s]"
          }
        },
        "3cf5bd9346dd4336a34ca61cf633747f": {
          "model_module": "@jupyter-widgets/base",
          "model_name": "LayoutModel",
          "model_module_version": "1.2.0",
          "state": {
            "_model_module": "@jupyter-widgets/base",
            "_model_module_version": "1.2.0",
            "_model_name": "LayoutModel",
            "_view_count": null,
            "_view_module": "@jupyter-widgets/base",
            "_view_module_version": "1.2.0",
            "_view_name": "LayoutView",
            "align_content": null,
            "align_items": null,
            "align_self": null,
            "border": null,
            "bottom": null,
            "display": null,
            "flex": null,
            "flex_flow": null,
            "grid_area": null,
            "grid_auto_columns": null,
            "grid_auto_flow": null,
            "grid_auto_rows": null,
            "grid_column": null,
            "grid_gap": null,
            "grid_row": null,
            "grid_template_areas": null,
            "grid_template_columns": null,
            "grid_template_rows": null,
            "height": null,
            "justify_content": null,
            "justify_items": null,
            "left": null,
            "margin": null,
            "max_height": null,
            "max_width": null,
            "min_height": null,
            "min_width": null,
            "object_fit": null,
            "object_position": null,
            "order": null,
            "overflow": null,
            "overflow_x": null,
            "overflow_y": null,
            "padding": null,
            "right": null,
            "top": null,
            "visibility": null,
            "width": null
          }
        },
        "4dcba3e95829495a9f5b1b5d673ca283": {
          "model_module": "@jupyter-widgets/base",
          "model_name": "LayoutModel",
          "model_module_version": "1.2.0",
          "state": {
            "_model_module": "@jupyter-widgets/base",
            "_model_module_version": "1.2.0",
            "_model_name": "LayoutModel",
            "_view_count": null,
            "_view_module": "@jupyter-widgets/base",
            "_view_module_version": "1.2.0",
            "_view_name": "LayoutView",
            "align_content": null,
            "align_items": null,
            "align_self": null,
            "border": null,
            "bottom": null,
            "display": null,
            "flex": null,
            "flex_flow": null,
            "grid_area": null,
            "grid_auto_columns": null,
            "grid_auto_flow": null,
            "grid_auto_rows": null,
            "grid_column": null,
            "grid_gap": null,
            "grid_row": null,
            "grid_template_areas": null,
            "grid_template_columns": null,
            "grid_template_rows": null,
            "height": null,
            "justify_content": null,
            "justify_items": null,
            "left": null,
            "margin": null,
            "max_height": null,
            "max_width": null,
            "min_height": null,
            "min_width": null,
            "object_fit": null,
            "object_position": null,
            "order": null,
            "overflow": null,
            "overflow_x": null,
            "overflow_y": null,
            "padding": null,
            "right": null,
            "top": null,
            "visibility": null,
            "width": null
          }
        },
        "82bc78bb626149a38594c1b9e731a51c": {
          "model_module": "@jupyter-widgets/controls",
          "model_name": "DescriptionStyleModel",
          "model_module_version": "1.5.0",
          "state": {
            "_model_module": "@jupyter-widgets/controls",
            "_model_module_version": "1.5.0",
            "_model_name": "DescriptionStyleModel",
            "_view_count": null,
            "_view_module": "@jupyter-widgets/base",
            "_view_module_version": "1.2.0",
            "_view_name": "StyleView",
            "description_width": ""
          }
        },
        "94770f3346414db7891d1722b5b61fdf": {
          "model_module": "@jupyter-widgets/base",
          "model_name": "LayoutModel",
          "model_module_version": "1.2.0",
          "state": {
            "_model_module": "@jupyter-widgets/base",
            "_model_module_version": "1.2.0",
            "_model_name": "LayoutModel",
            "_view_count": null,
            "_view_module": "@jupyter-widgets/base",
            "_view_module_version": "1.2.0",
            "_view_name": "LayoutView",
            "align_content": null,
            "align_items": null,
            "align_self": null,
            "border": null,
            "bottom": null,
            "display": null,
            "flex": null,
            "flex_flow": null,
            "grid_area": null,
            "grid_auto_columns": null,
            "grid_auto_flow": null,
            "grid_auto_rows": null,
            "grid_column": null,
            "grid_gap": null,
            "grid_row": null,
            "grid_template_areas": null,
            "grid_template_columns": null,
            "grid_template_rows": null,
            "height": null,
            "justify_content": null,
            "justify_items": null,
            "left": null,
            "margin": null,
            "max_height": null,
            "max_width": null,
            "min_height": null,
            "min_width": null,
            "object_fit": null,
            "object_position": null,
            "order": null,
            "overflow": null,
            "overflow_x": null,
            "overflow_y": null,
            "padding": null,
            "right": null,
            "top": null,
            "visibility": null,
            "width": null
          }
        },
        "5964acda94fa4f4baa708c3223291892": {
          "model_module": "@jupyter-widgets/controls",
          "model_name": "ProgressStyleModel",
          "model_module_version": "1.5.0",
          "state": {
            "_model_module": "@jupyter-widgets/controls",
            "_model_module_version": "1.5.0",
            "_model_name": "ProgressStyleModel",
            "_view_count": null,
            "_view_module": "@jupyter-widgets/base",
            "_view_module_version": "1.2.0",
            "_view_name": "StyleView",
            "bar_color": null,
            "description_width": ""
          }
        },
        "a98d95f8285647818d200d59e7351b49": {
          "model_module": "@jupyter-widgets/base",
          "model_name": "LayoutModel",
          "model_module_version": "1.2.0",
          "state": {
            "_model_module": "@jupyter-widgets/base",
            "_model_module_version": "1.2.0",
            "_model_name": "LayoutModel",
            "_view_count": null,
            "_view_module": "@jupyter-widgets/base",
            "_view_module_version": "1.2.0",
            "_view_name": "LayoutView",
            "align_content": null,
            "align_items": null,
            "align_self": null,
            "border": null,
            "bottom": null,
            "display": null,
            "flex": null,
            "flex_flow": null,
            "grid_area": null,
            "grid_auto_columns": null,
            "grid_auto_flow": null,
            "grid_auto_rows": null,
            "grid_column": null,
            "grid_gap": null,
            "grid_row": null,
            "grid_template_areas": null,
            "grid_template_columns": null,
            "grid_template_rows": null,
            "height": null,
            "justify_content": null,
            "justify_items": null,
            "left": null,
            "margin": null,
            "max_height": null,
            "max_width": null,
            "min_height": null,
            "min_width": null,
            "object_fit": null,
            "object_position": null,
            "order": null,
            "overflow": null,
            "overflow_x": null,
            "overflow_y": null,
            "padding": null,
            "right": null,
            "top": null,
            "visibility": null,
            "width": null
          }
        },
        "74d1edff460b43b983e70d5da04415a7": {
          "model_module": "@jupyter-widgets/controls",
          "model_name": "DescriptionStyleModel",
          "model_module_version": "1.5.0",
          "state": {
            "_model_module": "@jupyter-widgets/controls",
            "_model_module_version": "1.5.0",
            "_model_name": "DescriptionStyleModel",
            "_view_count": null,
            "_view_module": "@jupyter-widgets/base",
            "_view_module_version": "1.2.0",
            "_view_name": "StyleView",
            "description_width": ""
          }
        }
      }
    }
  },
  "nbformat": 4,
  "nbformat_minor": 0
}